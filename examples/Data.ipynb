{
 "metadata": {
  "name": "",
  "signature": "sha256:72346c11ee8463c52dab3904b568b1ec982b10740ec3316ca2c985a1b5030ed5"
 },
 "nbformat": 3,
 "nbformat_minor": 0,
 "worksheets": [
  {
   "cells": [
    {
     "cell_type": "markdown",
     "metadata": {},
     "source": [
      "# Blaze.data\n",
      "\n",
      "*Providing a uniform interface over data storage*"
     ]
    },
    {
     "cell_type": "code",
     "collapsed": false,
     "input": [
      "from blaze.data import *"
     ],
     "language": "python",
     "metadata": {},
     "outputs": [],
     "prompt_number": 1
    },
    {
     "cell_type": "markdown",
     "metadata": {},
     "source": [
      "### Bitcoin Data\n",
      "\n",
      "We have some bitcoin traffic data in a csv file"
     ]
    },
    {
     "cell_type": "code",
     "collapsed": false,
     "input": [
      "with open('data/btc_us_dollar_table.csv') as f:\n",
      "    print ''.join(f.readlines()[:5])"
     ],
     "language": "python",
     "metadata": {},
     "outputs": [
      {
       "output_type": "stream",
       "stream": "stdout",
       "text": [
        "Date,\"('value', 'sum')\",\"('value', 'mean')\",\"('value', 'std')\",Open,High,Low,Close,Volume (BTC),Volume (Currency),Weighted Price\n",
        "2010-07-17,45575.520000000135,74.95973684210549,318.5300505624197,0.049510000000000005,0.049510000000000005,0.049510000000000005,0.049510000000000005,20.0,0.99,0.05\n",
        "2010-07-18,29150.069999999865,48.1819338842973,143.48170001479144,0.049510000000000005,0.08585,0.059410000000000004,0.08584,75.01,5.09,0.07\n",
        "2010-07-19,52553.210000000276,79.26577677224778,533.2117308572914,0.08584,0.09307,0.07723,0.0808,574.0,49.66,0.09\n",
        "2010-07-20,43706.070000000385,46.844662379421635,115.19068756330688,0.0808,0.08181000000000001,0.07426,0.07474,262.0,20.59,0.08\n",
        "\n"
       ]
      }
     ],
     "prompt_number": 2
    },
    {
     "cell_type": "markdown",
     "metadata": {},
     "source": [
      "## Schema\n",
      "\n",
      "We describe the schema of our data.  We use this schema and our file resource to define a Blaze data descriptor"
     ]
    },
    {
     "cell_type": "code",
     "collapsed": false,
     "input": [
      "schema = ('''{date: date, sum: real, mean: real, std: real, open: real, high: real, \n",
      "              low: real, close: real, volume_btc: real, volume_currency:real, price: real}''')"
     ],
     "language": "python",
     "metadata": {},
     "outputs": [],
     "prompt_number": 3
    },
    {
     "cell_type": "code",
     "collapsed": false,
     "input": [
      "csvdata = CSV('data/btc_us_dollar_table.csv', schema=schema)"
     ],
     "language": "python",
     "metadata": {},
     "outputs": [],
     "prompt_number": 4
    },
    {
     "cell_type": "markdown",
     "metadata": {},
     "source": [
      "## Interaction\n",
      "\n",
      "Iteration over a data descriptor produces Python objects.  Note that we coerce values based on the Schema."
     ]
    },
    {
     "cell_type": "code",
     "collapsed": false,
     "input": [
      "csvdata[0]"
     ],
     "language": "python",
     "metadata": {},
     "outputs": [
      {
       "metadata": {},
       "output_type": "pyout",
       "prompt_number": 5,
       "text": [
        "{u'close': 0.049510000000000005,\n",
        " u'date': datetime.date(2010, 7, 17),\n",
        " u'high': 0.049510000000000005,\n",
        " u'low': 0.049510000000000005,\n",
        " u'mean': 74.95973684210549,\n",
        " u'open': 0.049510000000000005,\n",
        " u'price': 0.05,\n",
        " u'std': 318.5300505624197,\n",
        " u'sum': 45575.520000000135,\n",
        " u'volume_btc': 20.0,\n",
        " u'volume_currency': 0.99}"
       ]
      }
     ],
     "prompt_number": 5
    },
    {
     "cell_type": "markdown",
     "metadata": {},
     "source": [
      "We can also read data into a DyND array.  DyND arrays are like NumPy arrays but handle a wider set of data shapes."
     ]
    },
    {
     "cell_type": "code",
     "collapsed": true,
     "input": [
      "x = csvdata.as_dynd()\n",
      "x[:10].volume_btc"
     ],
     "language": "python",
     "metadata": {},
     "outputs": [
      {
       "metadata": {},
       "output_type": "pyout",
       "prompt_number": 6,
       "text": [
        "nd.array([20, 75.01, 574, 262, 575, 2160, 2402.5, 496.32, 1551.48, 877], type=\"strided * float64\")"
       ]
      }
     ],
     "prompt_number": 6
    },
    {
     "cell_type": "markdown",
     "metadata": {},
     "source": [
      "## Migrating to SQL\n",
      "\n",
      "By abstracting away the information content from the storage mechanism we enable a clean and validated interface for changing formats.  Here we create a small SQLite database with the same schema and dump the data from the csv file to this new SQL database. "
     ]
    },
    {
     "cell_type": "code",
     "collapsed": false,
     "input": [
      "sqldata = SQL('sqlite:///btc_us_dollar_table.db', 'bitcoin', schema=schema)\n",
      "rows = iter(csvdata)  # Iterator of Python dicts\n",
      "sqldata.extend(rows)   # Bulk Insert into database"
     ],
     "language": "python",
     "metadata": {},
     "outputs": [],
     "prompt_number": 7
    },
    {
     "cell_type": "markdown",
     "metadata": {},
     "source": [
      "## Blaze depends on proven technologies\n",
      "\n",
      "Our SQL engine leverages SQL-Alchemy under the hood.  Our schemas are translated to SQL Alchemy types"
     ]
    },
    {
     "cell_type": "code",
     "collapsed": false,
     "input": [
      "list(sqldata.table.columns)"
     ],
     "language": "python",
     "metadata": {},
     "outputs": [
      {
       "metadata": {},
       "output_type": "pyout",
       "prompt_number": 8,
       "text": [
        "[Column('date', Date(), table=<bitcoin>),\n",
        " Column('sum', Float(), table=<bitcoin>),\n",
        " Column('mean', Float(), table=<bitcoin>),\n",
        " Column('std', Float(), table=<bitcoin>),\n",
        " Column('open', Float(), table=<bitcoin>),\n",
        " Column('high', Float(), table=<bitcoin>),\n",
        " Column('low', Float(), table=<bitcoin>),\n",
        " Column('close', Float(), table=<bitcoin>),\n",
        " Column('volume_btc', Float(), table=<bitcoin>),\n",
        " Column('volume_currency', Float(), table=<bitcoin>),\n",
        " Column('price', Float(), table=<bitcoin>)]"
       ]
      }
     ],
     "prompt_number": 8
    },
    {
     "cell_type": "markdown",
     "metadata": {},
     "source": [
      "## Blaze doesn't impose itself\n",
      "\n",
      "We try hard to be a thin interface.  The underlying data store is always accessible."
     ]
    },
    {
     "cell_type": "code",
     "collapsed": false,
     "input": [
      "with sqldata.engine.connect() as conn:\n",
      "    for date, close in conn.execute('SELECT date, close FROM bitcoin LIMIT 10'):\n",
      "        print date, close"
     ],
     "language": "python",
     "metadata": {},
     "outputs": [
      {
       "output_type": "stream",
       "stream": "stdout",
       "text": [
        "2010-07-17 0.04951\n",
        "2010-07-18 0.08584\n",
        "2010-07-19 0.0808\n",
        "2010-07-20 0.07474\n",
        "2010-07-21 0.07921\n",
        "2010-07-22 0.0505\n",
        "2010-07-23 0.06262\n",
        "2010-07-24 0.05454\n",
        "2010-07-25 0.0505\n",
        "2010-07-26 0.056\n"
       ]
      }
     ],
     "prompt_number": 9
    }
   ],
   "metadata": {}
  }
 ]
}