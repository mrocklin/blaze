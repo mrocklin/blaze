{
 "metadata": {
  "name": "",
  "signature": "sha256:cb2de5d62e9e1ff015ce04c8a8bc6e72d568563916df1198d9b3347e574c5a51"
 },
 "nbformat": 3,
 "nbformat_minor": 0,
 "worksheets": [
  {
   "cells": [
    {
     "cell_type": "markdown",
     "metadata": {},
     "source": [
      "# Abstract Expressions\n",
      "\n",
      "Blaze TableExprs express abstract tabular computations.  They do this separate from any particular data store."
     ]
    },
    {
     "cell_type": "code",
     "collapsed": false,
     "input": [
      "from blaze.expr.table import TableExpr\n",
      "\n",
      "accounts = TableExpr('{name: string, amount: int}')   # A table with two columns, Names and Amounts\n",
      "deadbeats = accounts['name'][accounts['amount'] < 0]  # The names of those with negative amounts"
     ],
     "language": "python",
     "metadata": {},
     "outputs": [],
     "prompt_number": 1
    },
    {
     "cell_type": "markdown",
     "metadata": {},
     "source": [
      "# Concrete Computation\n",
      "\n",
      "We marry abstract expressions to a variety of numeric backends"
     ]
    },
    {
     "cell_type": "markdown",
     "metadata": {},
     "source": [
      "### Python core data structures"
     ]
    },
    {
     "cell_type": "code",
     "collapsed": false,
     "input": [
      "from blaze.compute.python import compute\n",
      "data = [['Alice', 100], ['Bob', -50], ['Charlie', -20]]\n",
      "\n",
      "list(compute(deadbeats, data))"
     ],
     "language": "python",
     "metadata": {},
     "outputs": [
      {
       "metadata": {},
       "output_type": "pyout",
       "prompt_number": 2,
       "text": [
        "['Bob', 'Charlie']"
       ]
      }
     ],
     "prompt_number": 2
    },
    {
     "cell_type": "markdown",
     "metadata": {},
     "source": [
      "### Pandas DataFrames"
     ]
    },
    {
     "cell_type": "code",
     "collapsed": false,
     "input": [
      "from pandas import DataFrame\n",
      "data = [['Alice', 100], ['Bob', -50], ['Charlie', -20]]\n",
      "df = DataFrame(data, columns=['name', 'amount'])"
     ],
     "language": "python",
     "metadata": {},
     "outputs": [],
     "prompt_number": 3
    },
    {
     "cell_type": "code",
     "collapsed": false,
     "input": [
      "from blaze.compute.tpandas import compute\n",
      "compute(deadbeats, df)"
     ],
     "language": "python",
     "metadata": {},
     "outputs": [
      {
       "metadata": {},
       "output_type": "pyout",
       "prompt_number": 4,
       "text": [
        "1        Bob\n",
        "2    Charlie\n",
        "Name: name, dtype: object"
       ]
      }
     ],
     "prompt_number": 4
    },
    {
     "cell_type": "markdown",
     "metadata": {},
     "source": [
      "### SQL Queries"
     ]
    },
    {
     "cell_type": "code",
     "collapsed": false,
     "input": [
      "from sqlalchemy import Table, Column, MetaData, Integer, String\n",
      "t = Table('accounts', MetaData(),\n",
      "          Column('name', String, primary_key = True),\n",
      "          Column('amount', Integer))"
     ],
     "language": "python",
     "metadata": {},
     "outputs": [],
     "prompt_number": 5
    },
    {
     "cell_type": "code",
     "collapsed": false,
     "input": [
      "from blaze.compute.sql import compute"
     ],
     "language": "python",
     "metadata": {},
     "outputs": [],
     "prompt_number": 6
    },
    {
     "cell_type": "code",
     "collapsed": false,
     "input": [
      "print compute(deadbeats, t)"
     ],
     "language": "python",
     "metadata": {},
     "outputs": [
      {
       "output_type": "stream",
       "stream": "stdout",
       "text": [
        "SELECT accounts.name \n",
        "FROM accounts \n",
        "WHERE accounts.amount < :amount_1\n"
       ]
      }
     ],
     "prompt_number": 7
    }
   ],
   "metadata": {}
  }
 ]
}